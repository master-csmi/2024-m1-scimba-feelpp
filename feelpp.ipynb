{
 "cells": [
  {
   "cell_type": "markdown",
   "metadata": {},
   "source": [
    "### Create the right environment for Feel ++\n"
   ]
  },
  {
   "cell_type": "code",
   "execution_count": null,
   "id": "2dabdacb-a6be-4125-8c6e-a125bf15dfa8",
   "metadata": {},
   "outputs": [],
   "source": [
    "import os\n",
    "import sys\n",
    "import feelpp\n",
    "import feelpp.toolboxes.core as tb\n",
    "from tools.GeoToMsh import geo_to_msh\n",
    "from tools.GmeshRead import mesh2d\n",
    "from tools.cmap import custom_cmap\n",
    "import pandas as pd\n",
    "import numpy as np\n",
    "import pyvista as pv\n",
    "\n",
    "import plotly.express as px\n",
    "from plotly.subplots import make_subplots\n",
    "import itertools\n",
    "import torch\n",
    "from pathlib import Path\n",
    "from tools.Poisson_feelpp import Poisson_feel\n",
    "\n",
    "# mandatory things\n",
    "sys.argv = [\"feelpp_app\"]\n",
    "e = feelpp.Environment(sys.argv,\n",
    "                       opts=tb.toolboxes_options(\"coefficient-form-pdes\", \"cfpdes\"),\n",
    "                       config=feelpp.localRepository('feelpp_cfpde'))\n",
    "\n",
    "# ------------------------------------------------------------------------- #\n",
    "# Poisson problem\n",
    "# - div (diff * grad (u)) = f    in Omega\n",
    "#                     u   = g    in Gamma_D\n",
    "# Omega = domain, either cube or ball\n",
    "# Approx = lagrange Pk of order order\n",
    "# mesh of size h\n",
    "\n"
   ]
  },
  {
   "cell_type": "markdown",
   "metadata": {},
   "source": [
    "### Solving the Laplacian problem"
   ]
  },
  {
   "cell_type": "code",
   "execution_count": null,
   "metadata": {},
   "outputs": [],
   "source": [
    "# Solving \n",
    "P = Poisson_feel(dim = 2)\n",
    "\n",
    "# for square domain\n",
    "u_exact = 'sin(2*pi*x) * sin(2*pi*y)'\n",
    "rhs = '8*pi*pi*sin(2*pi*x) * sin(2*pi*y)'\n",
    "h = 0.05\n",
    "P(h=h, rhs=rhs, g='0', u_exact = u_exact)\n",
    "fn = f'omega-{P.dim}.geo'\n",
    "P.measures = P.feel_solver(filename=fn, h=h, dim=P.dim, verbose=False)\n",
    "print(\"\\nmeasures = \", P.measures)\n"
   ]
  },
  {
   "cell_type": "markdown",
   "metadata": {},
   "source": [
    "### Extracting the solution values"
   ]
  },
  {
   "cell_type": "code",
   "execution_count": null,
   "metadata": {},
   "outputs": [],
   "source": [
    "import pyvista as pv\n",
    "import pandas as pd\n",
    "\n",
    "import os\n",
    "\n",
    "# Fichier .case\n",
    "file_path = '/workspaces/2024-m1-scimba-feelpp/feelppdb/feelpp_cfpde/np_1/cfpdes-2d-p1.exports/Export.case'\n",
    "data = pv.read(file_path)\n",
    "\n",
    "# Extraire les données de chaque bloc\n",
    "for i, block in enumerate(data):\n",
    "    if block is None:\n",
    "        continue\n",
    "    print(f\"Bloc {i}:\")\n",
    "    print(block)\n",
    "\n",
    "    print(\"Champs de points disponibles:\", block.point_data.keys())\n",
    "    print(\"Champs de cellules disponibles:\", block.cell_data.keys())\n",
    "\n",
    "    solution = 'cfpdes.poisson.u'\n",
    "\n",
    "    solution_expression = block.point_data[solution]\n",
    "    print(\"Expression de la fonction extraite:\", solution_expression)\n",
    "\n",
    "    df = pd.DataFrame(block.point_data)\n",
    "    print(df.head())\n",
    "    \n",
    "poisson_u = block.point_data['cfpdes.poisson.u']\n",
    "print(\"Valeurs de 'cfpdes.poisson.u':\")\n",
    "print(poisson_u) "
   ]
  },
  {
   "cell_type": "markdown",
   "metadata": {},
   "source": [
    "### comparing solution extracted and solution computed"
   ]
  },
  {
   "cell_type": "code",
   "execution_count": null,
   "metadata": {},
   "outputs": [],
   "source": [
    "from xvfbwrapper import Xvfb\n",
    "import pyvista as pv \n",
    "import matplotlib.pyplot as plt\n",
    "\n",
    "\n",
    "vdisplay = Xvfb()\n",
    "vdisplay.start()\n",
    "pv.set_jupyter_backend('static') \n",
    "#pv.start_xvfb()\n",
    "def pv_get_mesh(mesh_path):\n",
    "    reader = pv.get_reader(mesh_path)\n",
    "    mesh = reader.read()\n",
    "    return mesh\n",
    "\n",
    "def pv_plot(mesh, field, clim=None, cmap=custom_cmap, cpos='xy', show_scalar_bar=True, show_edges=True):\n",
    "    mesh.plot(scalars=field, clim=clim, cmap=cmap, cpos=cpos, show_scalar_bar=show_scalar_bar, show_edges=show_edges)\n",
    "\n",
    "def myplots(dim=2, field=\"cfpdes.poisson.u\", factor=1, cmap=custom_cmap):\n",
    "    mesh = pv_get_mesh((f\"cfpdes-{P.dim}d-p{P.order}.exports/Export.case\"))\n",
    "    #pv_plot(mesh, field)\n",
    "    pl = pv.Plotter(shape=(1,2))\n",
    "\n",
    "    pl.add_title(f'Solution P{P.order}', font_size=18)\n",
    "    pl.add_mesh(mesh[0], scalars = \"cfpdes.poisson.u\", cmap=custom_cmap)\n",
    "\n",
    "    pl.subplot(0,1)\n",
    "    pl.add_title('u_extracted ' , font_size=10)\n",
    "    pl.add_mesh(mesh[0].copy(), scalars = poisson_u , cmap=custom_cmap)\n",
    "\n",
    "    \n",
    "    pl.link_views()\n",
    "    pl.view_xy()\n",
    "    pl.show()\n",
    "    #pl.screenshot(plot)\n",
    "\n",
    "myplots(dim=2,factor= 1)"
   ]
  },
  {
   "cell_type": "markdown",
   "metadata": {},
   "source": [
    "### Reading mesh nodes"
   ]
  },
  {
   "cell_type": "code",
   "execution_count": null,
   "metadata": {},
   "outputs": [],
   "source": [
    "# Reading nodes for square mesh\n",
    "mesh = '/workspaces/2024-m1-scimba-feelpp/geo/carre.msh'\n",
    "my_mesh = mesh2d(mesh)\n",
    "my_mesh.read_mesh()\n",
    "coordinates = my_mesh.Nodes\n",
    "for i in range(my_mesh.Nnodes):\n",
    "    print(f'\\n u({coordinates[i]}) = ', poisson_u[i] )\n",
    "print('\\nlength u = ', len(poisson_u),' number of nodes = ', my_mesh.Nnodes)\n"
   ]
  },
  {
   "cell_type": "code",
   "execution_count": null,
   "metadata": {},
   "outputs": [],
   "source": [
    "# for disk domain\n",
    "u_exact =  'sin(pi*(x*x + y*y))'\n",
    "rhs = '4* pi * (-cos(pi* (x*x + y*y)) + pi * (x*x + y*y)* sin(pi* (x*x + y*y)))'\n",
    "P(rhs=rhs, g='sin(pi*(x*x + y*y))', order=1, geofile='/workspaces/2024-m1-scimba-feelpp/geo/disk.geo', u_exact = u_exact)\n",
    "\n",
    "# Fichier .case\n",
    "file_path = '/workspaces/2024-m1-scimba-feelpp/feelppdb/feelpp_cfpde/np_1/cfpdes-2d-p1.exports/Export.case'\n",
    "data = pv.read(file_path)\n",
    "\n",
    "# Extraire les données de chaque bloc\n",
    "for i, block in enumerate(data):\n",
    "    if block is None:\n",
    "        continue\n",
    "    print(f\"Bloc {i}:\")\n",
    "    print(block)\n",
    "\n",
    "    print(\"Champs de points disponibles:\", block.point_data.keys())\n",
    "    print(\"Champs de cellules disponibles:\", block.cell_data.keys())\n",
    "\n",
    "    solution = 'cfpdes.poisson.u'\n",
    "\n",
    "    solution_expression = block.point_data[solution]\n",
    "    print(\"Expression de la fonction extraite:\", solution_expression)\n",
    "\n",
    "    df = pd.DataFrame(block.point_data)\n",
    "    print(df.head())\n",
    "    \n",
    "poisson_u = block.point_data['cfpdes.poisson.u']\n",
    "print(\"Valeurs de 'cfpdes.poisson.u':\")\n",
    "print(poisson_u) \n"
   ]
  },
  {
   "cell_type": "markdown",
   "metadata": {},
   "source": [
    "### Computing error convergence rates"
   ]
  },
  {
   "cell_type": "code",
   "execution_count": null,
   "metadata": {},
   "outputs": [],
   "source": [
    "\n",
    "def runLaplacianPk(P, df, model, fn = f'omega-{P.dim}.geo', verbose=False):\n",
    "    #Generate the Pk case\n",
    "    meas = dict()\n",
    "    dim, order, json = model\n",
    "    #for h in df['h']:\n",
    "    m = P.measures   \n",
    "    print('m = ', m)\n",
    "    print('keys = ', m.keys())\n",
    "    for norm in ['L2', 'H1']:      \n",
    "      meas.setdefault(f'P{order}-Norm_poisson_{norm}-error', [])\n",
    "      meas[f'P{order}-Norm_poisson_{norm}-error'].append(m.pop(f'Norm_poisson_{norm}-error'))\n",
    "    df = df.assign(**meas)\n",
    "    for norm in ['L2', 'H1']:\n",
    "      df[f'P{order}-poisson_{norm}-convergence-rate']=np.log2(df[f'P{order}-Norm_poisson_{norm}-error'].shift() / df[f'P{order}-Norm_poisson_{norm}-error']) / np.log2(df['h'].shift() / df['h'])\n",
    "    return df\n",
    "\n",
    "\n",
    "def runConvergenceAnalysis(P, json,dim=2,hs=[0.1,0.05,0.025,0.0125],orders=[1,2],verbose=False):\n",
    "  df=pd.DataFrame({'h':hs})\n",
    "  for order in orders:\n",
    "    df=runLaplacianPk(P, df=df,model=[dim,order,json(dim=dim,order=order)],fn = f'omega-{P.dim}.geo', verbose=verbose)\n",
    "  print('df = ', df.to_markdown())\n",
    "  return df\n",
    "\n",
    "def plot_convergence(P, df,dim,orders=[1,2]):\n",
    "  fig=px.line(df, x=\"h\", y=[f'P{order}-Norm_poisson_{norm}-error' for order,norm in list(itertools.product(orders,['L2','H1']))])\n",
    "  fig.update_xaxes(title_text=\"h\",type=\"log\")\n",
    "  fig.update_yaxes(title_text=\"Error\",type=\"log\")\n",
    "  for order,norm in list(itertools.product(orders,['L2','H1'])):\n",
    "    fig.update_traces(name=f'P{order} - {norm} error - {df[f\"P{order}-poisson_{norm}-convergence-rate\"].iloc[-1]:.2f}', selector=dict(name=f'P{order}-Norm_poisson_{norm}-error'))\n",
    "  fig.update_layout(\n",
    "          title=f\"Convergence rate for the {dim}D Poisson problem\",\n",
    "          autosize=False,\n",
    "          width=900,\n",
    "          height=900,\n",
    "      )\n",
    "  return fig\n",
    "  "
   ]
  },
  {
   "cell_type": "code",
   "execution_count": null,
   "metadata": {},
   "outputs": [],
   "source": [
    "\n",
    "u_exact = 'sin(2*pi*x) * sin(2*pi*y)'\n",
    "rhs = '8*pi*pi*sin(2*pi*x) * sin(2*pi*y)'\n",
    "\n",
    "P(rhs=rhs, g='0', plot=None, u_exact = u_exact)\n",
    "fn = f'omega-{P.dim}.geo'\n",
    "hs=[0.1,0.05,0.025,0.0125]\n",
    "P.measures = P.feel_solver(filename=fn, h=hs[0], dim=P.dim, verbose=False)\n",
    "poisson_json = lambda order,dim=2,name=\"u\": P.model\n",
    "json=poisson_json\n",
    "print('measures = ', P.measures)\n",
    "model=[P.dim,P.order,json(dim=P.dim,order=P.order)]\n",
    "print('model =', model)\n",
    "\n",
    "df= runConvergenceAnalysis(P, json=json,dim=2,verbose=False)\n"
   ]
  },
  {
   "cell_type": "code",
   "execution_count": null,
   "metadata": {},
   "outputs": [],
   "source": [
    "fig= plot_convergence(P, df,dim=2)\n",
    "fig.show()\n",
    "\n"
   ]
  },
  {
   "cell_type": "code",
   "execution_count": null,
   "metadata": {},
   "outputs": [],
   "source": []
  },
  {
   "cell_type": "code",
   "execution_count": null,
   "metadata": {},
   "outputs": [],
   "source": []
  }
 ],
 "metadata": {
  "kernelspec": {
   "display_name": "Python 3 (ipykernel)",
   "language": "python",
   "name": "python3"
  },
  "language_info": {
   "codemirror_mode": {
    "name": "ipython",
    "version": 3
   },
   "file_extension": ".py",
   "mimetype": "text/x-python",
   "name": "python",
   "nbconvert_exporter": "python",
   "pygments_lexer": "ipython3",
   "version": "3.10.12"
  }
 },
 "nbformat": 4,
 "nbformat_minor": 2
}
